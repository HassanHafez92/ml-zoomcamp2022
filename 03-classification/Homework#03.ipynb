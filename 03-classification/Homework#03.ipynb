{
 "cells": [
  {
   "cell_type": "code",
   "execution_count": 1,
   "id": "648b8e59",
   "metadata": {},
   "outputs": [],
   "source": [
    "import numpy as np\n",
    "import pandas as pd\n",
    "\n",
    "import matplotlib.pyplot as plt\n",
    "import seaborn as sns\n",
    "\n",
    "%matplotlib inline\n",
    "\n",
    "from sklearn.model_selection import train_test_split\n",
    "from sklearn.metrics import mutual_info_score\n",
    "from sklearn.preprocessing import OneHotEncoder\n",
    "from sklearn.feature_extraction import DictVectorizer\n",
    "from sklearn.linear_model import LogisticRegression\n",
    "from sklearn.metrics import accuracy_score\n",
    "from sklearn.linear_model import Ridge\n",
    "from sklearn.metrics import mean_squared_error\n",
    "\n",
    "import warnings\n",
    "warnings.filterwarnings(\"ignore\")"
   ]
  },
  {
   "cell_type": "markdown",
   "id": "1755f64b",
   "metadata": {},
   "source": [
    "# EDA\n",
    "--Load the data.\n",
    "\n",
    "--Look at the median_house_value variable. Does it have a long tail?\n",
    "\n",
    "## Loading the data.\n",
    "Features"
   ]
  },
  {
   "cell_type": "code",
   "execution_count": 2,
   "id": "69fe45ba",
   "metadata": {},
   "outputs": [],
   "source": [
    "features = ['latitude',\n",
    "'longitude',\n",
    "'housing_median_age',\n",
    "'total_rooms',\n",
    "'total_bedrooms',\n",
    "'population',\n",
    "'households',\n",
    "'median_income',\n",
    "'median_house_value',\n",
    "'ocean_proximity',]"
   ]
  },
  {
   "cell_type": "code",
   "execution_count": 3,
   "id": "ef7979e8",
   "metadata": {},
   "outputs": [
    {
     "data": {
      "text/html": [
       "<div>\n",
       "<style scoped>\n",
       "    .dataframe tbody tr th:only-of-type {\n",
       "        vertical-align: middle;\n",
       "    }\n",
       "\n",
       "    .dataframe tbody tr th {\n",
       "        vertical-align: top;\n",
       "    }\n",
       "\n",
       "    .dataframe thead th {\n",
       "        text-align: right;\n",
       "    }\n",
       "</style>\n",
       "<table border=\"1\" class=\"dataframe\">\n",
       "  <thead>\n",
       "    <tr style=\"text-align: right;\">\n",
       "      <th></th>\n",
       "      <th>longitude</th>\n",
       "      <th>latitude</th>\n",
       "      <th>housing_median_age</th>\n",
       "      <th>total_rooms</th>\n",
       "      <th>total_bedrooms</th>\n",
       "      <th>population</th>\n",
       "      <th>households</th>\n",
       "      <th>median_income</th>\n",
       "      <th>median_house_value</th>\n",
       "      <th>ocean_proximity</th>\n",
       "    </tr>\n",
       "  </thead>\n",
       "  <tbody>\n",
       "    <tr>\n",
       "      <th>0</th>\n",
       "      <td>-122.23</td>\n",
       "      <td>37.88</td>\n",
       "      <td>41.0</td>\n",
       "      <td>880.0</td>\n",
       "      <td>129.0</td>\n",
       "      <td>322.0</td>\n",
       "      <td>126.0</td>\n",
       "      <td>8.3252</td>\n",
       "      <td>452600.0</td>\n",
       "      <td>NEAR BAY</td>\n",
       "    </tr>\n",
       "    <tr>\n",
       "      <th>1</th>\n",
       "      <td>-122.22</td>\n",
       "      <td>37.86</td>\n",
       "      <td>21.0</td>\n",
       "      <td>7099.0</td>\n",
       "      <td>1106.0</td>\n",
       "      <td>2401.0</td>\n",
       "      <td>1138.0</td>\n",
       "      <td>8.3014</td>\n",
       "      <td>358500.0</td>\n",
       "      <td>NEAR BAY</td>\n",
       "    </tr>\n",
       "    <tr>\n",
       "      <th>2</th>\n",
       "      <td>-122.24</td>\n",
       "      <td>37.85</td>\n",
       "      <td>52.0</td>\n",
       "      <td>1467.0</td>\n",
       "      <td>190.0</td>\n",
       "      <td>496.0</td>\n",
       "      <td>177.0</td>\n",
       "      <td>7.2574</td>\n",
       "      <td>352100.0</td>\n",
       "      <td>NEAR BAY</td>\n",
       "    </tr>\n",
       "    <tr>\n",
       "      <th>3</th>\n",
       "      <td>-122.25</td>\n",
       "      <td>37.85</td>\n",
       "      <td>52.0</td>\n",
       "      <td>1274.0</td>\n",
       "      <td>235.0</td>\n",
       "      <td>558.0</td>\n",
       "      <td>219.0</td>\n",
       "      <td>5.6431</td>\n",
       "      <td>341300.0</td>\n",
       "      <td>NEAR BAY</td>\n",
       "    </tr>\n",
       "    <tr>\n",
       "      <th>4</th>\n",
       "      <td>-122.25</td>\n",
       "      <td>37.85</td>\n",
       "      <td>52.0</td>\n",
       "      <td>1627.0</td>\n",
       "      <td>280.0</td>\n",
       "      <td>565.0</td>\n",
       "      <td>259.0</td>\n",
       "      <td>3.8462</td>\n",
       "      <td>342200.0</td>\n",
       "      <td>NEAR BAY</td>\n",
       "    </tr>\n",
       "  </tbody>\n",
       "</table>\n",
       "</div>"
      ],
      "text/plain": [
       "   longitude  latitude  housing_median_age  total_rooms  total_bedrooms  \\\n",
       "0    -122.23     37.88                41.0        880.0           129.0   \n",
       "1    -122.22     37.86                21.0       7099.0          1106.0   \n",
       "2    -122.24     37.85                52.0       1467.0           190.0   \n",
       "3    -122.25     37.85                52.0       1274.0           235.0   \n",
       "4    -122.25     37.85                52.0       1627.0           280.0   \n",
       "\n",
       "   population  households  median_income  median_house_value ocean_proximity  \n",
       "0       322.0       126.0         8.3252            452600.0        NEAR BAY  \n",
       "1      2401.0      1138.0         8.3014            358500.0        NEAR BAY  \n",
       "2       496.0       177.0         7.2574            352100.0        NEAR BAY  \n",
       "3       558.0       219.0         5.6431            341300.0        NEAR BAY  \n",
       "4       565.0       259.0         3.8462            342200.0        NEAR BAY  "
      ]
     },
     "execution_count": 3,
     "metadata": {},
     "output_type": "execute_result"
    }
   ],
   "source": [
    "df =pd.read_csv(\"housing.csv\", usecols= features)\n",
    "df.head()"
   ]
  },
  {
   "cell_type": "markdown",
   "id": "c3a00629",
   "metadata": {},
   "source": [
    "# Data preparation\n",
    "- Select only the features from above and fill in the missing values with 0.\n",
    "- Create a new column rooms_per_household by dividing the column total_rooms by the column households from dataframe.\n",
    "- Create a new column bedrooms_per_room by dividing the column total_bedrooms by the column total_rooms from dataframe.\n",
    "- Create a new column population_per_household by dividing the column population by the column households from dataframe.\n"
   ]
  },
  {
   "cell_type": "code",
   "execution_count": 4,
   "id": "33c286b9",
   "metadata": {},
   "outputs": [
    {
     "data": {
      "text/plain": [
       "longitude               0\n",
       "latitude                0\n",
       "housing_median_age      0\n",
       "total_rooms             0\n",
       "total_bedrooms        207\n",
       "population              0\n",
       "households              0\n",
       "median_income           0\n",
       "median_house_value      0\n",
       "ocean_proximity         0\n",
       "dtype: int64"
      ]
     },
     "execution_count": 4,
     "metadata": {},
     "output_type": "execute_result"
    }
   ],
   "source": [
    "df.isnull().sum()"
   ]
  },
  {
   "cell_type": "code",
   "execution_count": 5,
   "id": "f5687939",
   "metadata": {},
   "outputs": [],
   "source": [
    "df.fillna(0, inplace=True)\n"
   ]
  },
  {
   "cell_type": "code",
   "execution_count": 6,
   "id": "0ae3576e",
   "metadata": {},
   "outputs": [
    {
     "data": {
      "text/plain": [
       "longitude             0\n",
       "latitude              0\n",
       "housing_median_age    0\n",
       "total_rooms           0\n",
       "total_bedrooms        0\n",
       "population            0\n",
       "households            0\n",
       "median_income         0\n",
       "median_house_value    0\n",
       "ocean_proximity       0\n",
       "dtype: int64"
      ]
     },
     "execution_count": 6,
     "metadata": {},
     "output_type": "execute_result"
    }
   ],
   "source": [
    "df.isnull().sum()\n"
   ]
  },
  {
   "cell_type": "code",
   "execution_count": 7,
   "id": "27cec6cb",
   "metadata": {},
   "outputs": [
    {
     "data": {
      "text/html": [
       "<div>\n",
       "<style scoped>\n",
       "    .dataframe tbody tr th:only-of-type {\n",
       "        vertical-align: middle;\n",
       "    }\n",
       "\n",
       "    .dataframe tbody tr th {\n",
       "        vertical-align: top;\n",
       "    }\n",
       "\n",
       "    .dataframe thead th {\n",
       "        text-align: right;\n",
       "    }\n",
       "</style>\n",
       "<table border=\"1\" class=\"dataframe\">\n",
       "  <thead>\n",
       "    <tr style=\"text-align: right;\">\n",
       "      <th></th>\n",
       "      <th>longitude</th>\n",
       "      <th>latitude</th>\n",
       "      <th>housing_median_age</th>\n",
       "      <th>total_rooms</th>\n",
       "      <th>total_bedrooms</th>\n",
       "      <th>population</th>\n",
       "      <th>households</th>\n",
       "      <th>median_income</th>\n",
       "      <th>median_house_value</th>\n",
       "      <th>ocean_proximity</th>\n",
       "      <th>rooms_per_household</th>\n",
       "      <th>bedrooms_per_room</th>\n",
       "      <th>population_per_household</th>\n",
       "    </tr>\n",
       "  </thead>\n",
       "  <tbody>\n",
       "    <tr>\n",
       "      <th>0</th>\n",
       "      <td>-122.23</td>\n",
       "      <td>37.88</td>\n",
       "      <td>41.0</td>\n",
       "      <td>880.0</td>\n",
       "      <td>129.0</td>\n",
       "      <td>322.0</td>\n",
       "      <td>126.0</td>\n",
       "      <td>8.3252</td>\n",
       "      <td>452600.0</td>\n",
       "      <td>NEAR BAY</td>\n",
       "      <td>6.984127</td>\n",
       "      <td>0.146591</td>\n",
       "      <td>2.555556</td>\n",
       "    </tr>\n",
       "    <tr>\n",
       "      <th>1</th>\n",
       "      <td>-122.22</td>\n",
       "      <td>37.86</td>\n",
       "      <td>21.0</td>\n",
       "      <td>7099.0</td>\n",
       "      <td>1106.0</td>\n",
       "      <td>2401.0</td>\n",
       "      <td>1138.0</td>\n",
       "      <td>8.3014</td>\n",
       "      <td>358500.0</td>\n",
       "      <td>NEAR BAY</td>\n",
       "      <td>6.238137</td>\n",
       "      <td>0.155797</td>\n",
       "      <td>2.109842</td>\n",
       "    </tr>\n",
       "    <tr>\n",
       "      <th>2</th>\n",
       "      <td>-122.24</td>\n",
       "      <td>37.85</td>\n",
       "      <td>52.0</td>\n",
       "      <td>1467.0</td>\n",
       "      <td>190.0</td>\n",
       "      <td>496.0</td>\n",
       "      <td>177.0</td>\n",
       "      <td>7.2574</td>\n",
       "      <td>352100.0</td>\n",
       "      <td>NEAR BAY</td>\n",
       "      <td>8.288136</td>\n",
       "      <td>0.129516</td>\n",
       "      <td>2.802260</td>\n",
       "    </tr>\n",
       "    <tr>\n",
       "      <th>3</th>\n",
       "      <td>-122.25</td>\n",
       "      <td>37.85</td>\n",
       "      <td>52.0</td>\n",
       "      <td>1274.0</td>\n",
       "      <td>235.0</td>\n",
       "      <td>558.0</td>\n",
       "      <td>219.0</td>\n",
       "      <td>5.6431</td>\n",
       "      <td>341300.0</td>\n",
       "      <td>NEAR BAY</td>\n",
       "      <td>5.817352</td>\n",
       "      <td>0.184458</td>\n",
       "      <td>2.547945</td>\n",
       "    </tr>\n",
       "    <tr>\n",
       "      <th>4</th>\n",
       "      <td>-122.25</td>\n",
       "      <td>37.85</td>\n",
       "      <td>52.0</td>\n",
       "      <td>1627.0</td>\n",
       "      <td>280.0</td>\n",
       "      <td>565.0</td>\n",
       "      <td>259.0</td>\n",
       "      <td>3.8462</td>\n",
       "      <td>342200.0</td>\n",
       "      <td>NEAR BAY</td>\n",
       "      <td>6.281853</td>\n",
       "      <td>0.172096</td>\n",
       "      <td>2.181467</td>\n",
       "    </tr>\n",
       "  </tbody>\n",
       "</table>\n",
       "</div>"
      ],
      "text/plain": [
       "   longitude  latitude  housing_median_age  total_rooms  total_bedrooms  \\\n",
       "0    -122.23     37.88                41.0        880.0           129.0   \n",
       "1    -122.22     37.86                21.0       7099.0          1106.0   \n",
       "2    -122.24     37.85                52.0       1467.0           190.0   \n",
       "3    -122.25     37.85                52.0       1274.0           235.0   \n",
       "4    -122.25     37.85                52.0       1627.0           280.0   \n",
       "\n",
       "   population  households  median_income  median_house_value ocean_proximity  \\\n",
       "0       322.0       126.0         8.3252            452600.0        NEAR BAY   \n",
       "1      2401.0      1138.0         8.3014            358500.0        NEAR BAY   \n",
       "2       496.0       177.0         7.2574            352100.0        NEAR BAY   \n",
       "3       558.0       219.0         5.6431            341300.0        NEAR BAY   \n",
       "4       565.0       259.0         3.8462            342200.0        NEAR BAY   \n",
       "\n",
       "   rooms_per_household  bedrooms_per_room  population_per_household  \n",
       "0             6.984127           0.146591                  2.555556  \n",
       "1             6.238137           0.155797                  2.109842  \n",
       "2             8.288136           0.129516                  2.802260  \n",
       "3             5.817352           0.184458                  2.547945  \n",
       "4             6.281853           0.172096                  2.181467  "
      ]
     },
     "execution_count": 7,
     "metadata": {},
     "output_type": "execute_result"
    }
   ],
   "source": [
    "df[\"rooms_per_household\"] = df['total_rooms'] / df['households']\n",
    "df['bedrooms_per_room'] = df['total_bedrooms'] / df['total_rooms']\n",
    "df['population_per_household'] = df['population'] / df['households']\n",
    "df.head()"
   ]
  },
  {
   "cell_type": "markdown",
   "id": "6b8f120e",
   "metadata": {},
   "source": [
    "# Question 1\n",
    "What is the most frequent observation (mode) for the column ocean_proximity?"
   ]
  },
  {
   "cell_type": "code",
   "execution_count": 8,
   "id": "622c1a10",
   "metadata": {},
   "outputs": [
    {
     "data": {
      "text/plain": [
       "0    <1H OCEAN\n",
       "Name: ocean_proximity, dtype: object"
      ]
     },
     "execution_count": 8,
     "metadata": {},
     "output_type": "execute_result"
    }
   ],
   "source": [
    "df.ocean_proximity.mode()"
   ]
  },
  {
   "cell_type": "markdown",
   "id": "4c2a5d07",
   "metadata": {},
   "source": [
    "## Split the data\n",
    "- Split your data in train/val/test sets, with 60%/20%/20% distribution.\n",
    "- Use Scikit-Learn for that (the train_test_split function) and set the seed to 42.\n",
    "- Make sure that the target value (median_house_value) is not in your dataframe."
   ]
  },
  {
   "cell_type": "code",
   "execution_count": 9,
   "id": "d2189854",
   "metadata": {},
   "outputs": [],
   "source": [
    "full_train, X_test = train_test_split(df, test_size=0.2, random_state=42)\n",
    "X_train, X_val = train_test_split(full_train, test_size=0.25, random_state=42)\n",
    "\n",
    "\n",
    "X_train.reset_index(drop=True, inplace=True)\n",
    "X_test.reset_index(drop=True, inplace=True)\n",
    "X_val.reset_index(drop=True, inplace=True)\n",
    "\n",
    "\n",
    "y_train = X_train.median_house_value.values\n",
    "y_test = X_test.median_house_value.values\n",
    "y_val = X_val.median_house_value.values\n",
    "\n",
    "\n",
    "X_train.drop(['median_house_value'],  inplace=True, axis=1)\n",
    "X_val.drop(['median_house_value'],  inplace=True, axis=1)\n",
    "X_test.drop(['median_house_value'],  inplace=True, axis=1)"
   ]
  },
  {
   "cell_type": "markdown",
   "id": "d87f80a9",
   "metadata": {},
   "source": [
    "# Question 2\n",
    "- Create the correlation matrix for the numerical features of your train dataset.\n",
    "-- In a correlation matrix, you compute the correlation coefficient between every pair of features in the dataset.\n",
    "- What are the two features that have the biggest correlation in this dataset?"
   ]
  },
  {
   "cell_type": "code",
   "execution_count": 10,
   "id": "09af25de",
   "metadata": {},
   "outputs": [
    {
     "data": {
      "text/plain": [
       "longitude                   float64\n",
       "latitude                    float64\n",
       "housing_median_age          float64\n",
       "total_rooms                 float64\n",
       "total_bedrooms              float64\n",
       "population                  float64\n",
       "households                  float64\n",
       "median_income               float64\n",
       "median_house_value          float64\n",
       "ocean_proximity              object\n",
       "rooms_per_household         float64\n",
       "bedrooms_per_room           float64\n",
       "population_per_household    float64\n",
       "dtype: object"
      ]
     },
     "execution_count": 10,
     "metadata": {},
     "output_type": "execute_result"
    }
   ],
   "source": [
    "full_train.dtypes"
   ]
  },
  {
   "cell_type": "code",
   "execution_count": 11,
   "id": "c7703ad5",
   "metadata": {},
   "outputs": [],
   "source": [
    "numerical = [\n",
    "    'latitude',\n",
    "    'longitude',\n",
    "    'housing_median_age',\n",
    "    'total_rooms',\n",
    "    'total_bedrooms',\n",
    "    'population',\n",
    "    'households',\n",
    "    'median_income',\n",
    "    'median_house_value',\n",
    "    'rooms_per_household',\n",
    "    'bedrooms_per_room',\n",
    "    'population_per_household'\n",
    "]\n",
    "\n",
    "categorical = ['ocean_proximity']"
   ]
  },
  {
   "cell_type": "code",
   "execution_count": 12,
   "id": "e1d92686",
   "metadata": {},
   "outputs": [
    {
     "data": {
      "text/html": [
       "<div>\n",
       "<style scoped>\n",
       "    .dataframe tbody tr th:only-of-type {\n",
       "        vertical-align: middle;\n",
       "    }\n",
       "\n",
       "    .dataframe tbody tr th {\n",
       "        vertical-align: top;\n",
       "    }\n",
       "\n",
       "    .dataframe thead th {\n",
       "        text-align: right;\n",
       "    }\n",
       "</style>\n",
       "<table border=\"1\" class=\"dataframe\">\n",
       "  <thead>\n",
       "    <tr style=\"text-align: right;\">\n",
       "      <th></th>\n",
       "      <th>longitude</th>\n",
       "      <th>latitude</th>\n",
       "      <th>housing_median_age</th>\n",
       "      <th>total_rooms</th>\n",
       "      <th>total_bedrooms</th>\n",
       "      <th>population</th>\n",
       "      <th>households</th>\n",
       "      <th>median_income</th>\n",
       "      <th>median_house_value</th>\n",
       "      <th>rooms_per_household</th>\n",
       "      <th>bedrooms_per_room</th>\n",
       "      <th>population_per_household</th>\n",
       "    </tr>\n",
       "  </thead>\n",
       "  <tbody>\n",
       "    <tr>\n",
       "      <th>longitude</th>\n",
       "      <td>1.000000</td>\n",
       "      <td>-0.924485</td>\n",
       "      <td>-0.101818</td>\n",
       "      <td>0.038676</td>\n",
       "      <td>0.063064</td>\n",
       "      <td>0.094276</td>\n",
       "      <td>0.049306</td>\n",
       "      <td>-0.017040</td>\n",
       "      <td>-0.046349</td>\n",
       "      <td>-0.029339</td>\n",
       "      <td>0.097280</td>\n",
       "      <td>-0.000598</td>\n",
       "    </tr>\n",
       "    <tr>\n",
       "      <th>latitude</th>\n",
       "      <td>-0.924485</td>\n",
       "      <td>1.000000</td>\n",
       "      <td>0.005296</td>\n",
       "      <td>-0.029224</td>\n",
       "      <td>-0.059998</td>\n",
       "      <td>-0.102499</td>\n",
       "      <td>-0.064061</td>\n",
       "      <td>-0.076571</td>\n",
       "      <td>-0.142983</td>\n",
       "      <td>0.110695</td>\n",
       "      <td>-0.118938</td>\n",
       "      <td>0.005837</td>\n",
       "    </tr>\n",
       "    <tr>\n",
       "      <th>housing_median_age</th>\n",
       "      <td>-0.101818</td>\n",
       "      <td>0.005296</td>\n",
       "      <td>1.000000</td>\n",
       "      <td>-0.360922</td>\n",
       "      <td>-0.320624</td>\n",
       "      <td>-0.292283</td>\n",
       "      <td>-0.302796</td>\n",
       "      <td>-0.121711</td>\n",
       "      <td>0.103706</td>\n",
       "      <td>-0.160892</td>\n",
       "      <td>0.135495</td>\n",
       "      <td>0.016245</td>\n",
       "    </tr>\n",
       "    <tr>\n",
       "      <th>total_rooms</th>\n",
       "      <td>0.038676</td>\n",
       "      <td>-0.029224</td>\n",
       "      <td>-0.360922</td>\n",
       "      <td>1.000000</td>\n",
       "      <td>0.930489</td>\n",
       "      <td>0.857936</td>\n",
       "      <td>0.920482</td>\n",
       "      <td>0.198268</td>\n",
       "      <td>0.133989</td>\n",
       "      <td>0.136090</td>\n",
       "      <td>-0.189316</td>\n",
       "      <td>-0.024991</td>\n",
       "    </tr>\n",
       "    <tr>\n",
       "      <th>total_bedrooms</th>\n",
       "      <td>0.063064</td>\n",
       "      <td>-0.059998</td>\n",
       "      <td>-0.320624</td>\n",
       "      <td>0.930489</td>\n",
       "      <td>1.000000</td>\n",
       "      <td>0.878932</td>\n",
       "      <td>0.980255</td>\n",
       "      <td>-0.009141</td>\n",
       "      <td>0.047980</td>\n",
       "      <td>-0.001659</td>\n",
       "      <td>0.084149</td>\n",
       "      <td>-0.028536</td>\n",
       "    </tr>\n",
       "    <tr>\n",
       "      <th>population</th>\n",
       "      <td>0.094276</td>\n",
       "      <td>-0.102499</td>\n",
       "      <td>-0.292283</td>\n",
       "      <td>0.857936</td>\n",
       "      <td>0.878932</td>\n",
       "      <td>1.000000</td>\n",
       "      <td>0.907452</td>\n",
       "      <td>0.004122</td>\n",
       "      <td>-0.026032</td>\n",
       "      <td>-0.073733</td>\n",
       "      <td>0.035134</td>\n",
       "      <td>0.072330</td>\n",
       "    </tr>\n",
       "    <tr>\n",
       "      <th>households</th>\n",
       "      <td>0.049306</td>\n",
       "      <td>-0.064061</td>\n",
       "      <td>-0.302796</td>\n",
       "      <td>0.920482</td>\n",
       "      <td>0.980255</td>\n",
       "      <td>0.907452</td>\n",
       "      <td>1.000000</td>\n",
       "      <td>0.012776</td>\n",
       "      <td>0.063714</td>\n",
       "      <td>-0.083062</td>\n",
       "      <td>0.064185</td>\n",
       "      <td>-0.027656</td>\n",
       "    </tr>\n",
       "    <tr>\n",
       "      <th>median_income</th>\n",
       "      <td>-0.017040</td>\n",
       "      <td>-0.076571</td>\n",
       "      <td>-0.121711</td>\n",
       "      <td>0.198268</td>\n",
       "      <td>-0.009141</td>\n",
       "      <td>0.004122</td>\n",
       "      <td>0.012776</td>\n",
       "      <td>1.000000</td>\n",
       "      <td>0.690647</td>\n",
       "      <td>0.336013</td>\n",
       "      <td>-0.616669</td>\n",
       "      <td>0.022061</td>\n",
       "    </tr>\n",
       "    <tr>\n",
       "      <th>median_house_value</th>\n",
       "      <td>-0.046349</td>\n",
       "      <td>-0.142983</td>\n",
       "      <td>0.103706</td>\n",
       "      <td>0.133989</td>\n",
       "      <td>0.047980</td>\n",
       "      <td>-0.026032</td>\n",
       "      <td>0.063714</td>\n",
       "      <td>0.690647</td>\n",
       "      <td>1.000000</td>\n",
       "      <td>0.158485</td>\n",
       "      <td>-0.257419</td>\n",
       "      <td>-0.022030</td>\n",
       "    </tr>\n",
       "    <tr>\n",
       "      <th>rooms_per_household</th>\n",
       "      <td>-0.029339</td>\n",
       "      <td>0.110695</td>\n",
       "      <td>-0.160892</td>\n",
       "      <td>0.136090</td>\n",
       "      <td>-0.001659</td>\n",
       "      <td>-0.073733</td>\n",
       "      <td>-0.083062</td>\n",
       "      <td>0.336013</td>\n",
       "      <td>0.158485</td>\n",
       "      <td>1.000000</td>\n",
       "      <td>-0.435169</td>\n",
       "      <td>-0.004922</td>\n",
       "    </tr>\n",
       "    <tr>\n",
       "      <th>bedrooms_per_room</th>\n",
       "      <td>0.097280</td>\n",
       "      <td>-0.118938</td>\n",
       "      <td>0.135495</td>\n",
       "      <td>-0.189316</td>\n",
       "      <td>0.084149</td>\n",
       "      <td>0.035134</td>\n",
       "      <td>0.064185</td>\n",
       "      <td>-0.616669</td>\n",
       "      <td>-0.257419</td>\n",
       "      <td>-0.435169</td>\n",
       "      <td>1.000000</td>\n",
       "      <td>0.003938</td>\n",
       "    </tr>\n",
       "    <tr>\n",
       "      <th>population_per_household</th>\n",
       "      <td>-0.000598</td>\n",
       "      <td>0.005837</td>\n",
       "      <td>0.016245</td>\n",
       "      <td>-0.024991</td>\n",
       "      <td>-0.028536</td>\n",
       "      <td>0.072330</td>\n",
       "      <td>-0.027656</td>\n",
       "      <td>0.022061</td>\n",
       "      <td>-0.022030</td>\n",
       "      <td>-0.004922</td>\n",
       "      <td>0.003938</td>\n",
       "      <td>1.000000</td>\n",
       "    </tr>\n",
       "  </tbody>\n",
       "</table>\n",
       "</div>"
      ],
      "text/plain": [
       "                          longitude  latitude  housing_median_age  \\\n",
       "longitude                  1.000000 -0.924485           -0.101818   \n",
       "latitude                  -0.924485  1.000000            0.005296   \n",
       "housing_median_age        -0.101818  0.005296            1.000000   \n",
       "total_rooms                0.038676 -0.029224           -0.360922   \n",
       "total_bedrooms             0.063064 -0.059998           -0.320624   \n",
       "population                 0.094276 -0.102499           -0.292283   \n",
       "households                 0.049306 -0.064061           -0.302796   \n",
       "median_income             -0.017040 -0.076571           -0.121711   \n",
       "median_house_value        -0.046349 -0.142983            0.103706   \n",
       "rooms_per_household       -0.029339  0.110695           -0.160892   \n",
       "bedrooms_per_room          0.097280 -0.118938            0.135495   \n",
       "population_per_household  -0.000598  0.005837            0.016245   \n",
       "\n",
       "                          total_rooms  total_bedrooms  population  households  \\\n",
       "longitude                    0.038676        0.063064    0.094276    0.049306   \n",
       "latitude                    -0.029224       -0.059998   -0.102499   -0.064061   \n",
       "housing_median_age          -0.360922       -0.320624   -0.292283   -0.302796   \n",
       "total_rooms                  1.000000        0.930489    0.857936    0.920482   \n",
       "total_bedrooms               0.930489        1.000000    0.878932    0.980255   \n",
       "population                   0.857936        0.878932    1.000000    0.907452   \n",
       "households                   0.920482        0.980255    0.907452    1.000000   \n",
       "median_income                0.198268       -0.009141    0.004122    0.012776   \n",
       "median_house_value           0.133989        0.047980   -0.026032    0.063714   \n",
       "rooms_per_household          0.136090       -0.001659   -0.073733   -0.083062   \n",
       "bedrooms_per_room           -0.189316        0.084149    0.035134    0.064185   \n",
       "population_per_household    -0.024991       -0.028536    0.072330   -0.027656   \n",
       "\n",
       "                          median_income  median_house_value  \\\n",
       "longitude                     -0.017040           -0.046349   \n",
       "latitude                      -0.076571           -0.142983   \n",
       "housing_median_age            -0.121711            0.103706   \n",
       "total_rooms                    0.198268            0.133989   \n",
       "total_bedrooms                -0.009141            0.047980   \n",
       "population                     0.004122           -0.026032   \n",
       "households                     0.012776            0.063714   \n",
       "median_income                  1.000000            0.690647   \n",
       "median_house_value             0.690647            1.000000   \n",
       "rooms_per_household            0.336013            0.158485   \n",
       "bedrooms_per_room             -0.616669           -0.257419   \n",
       "population_per_household       0.022061           -0.022030   \n",
       "\n",
       "                          rooms_per_household  bedrooms_per_room  \\\n",
       "longitude                           -0.029339           0.097280   \n",
       "latitude                             0.110695          -0.118938   \n",
       "housing_median_age                  -0.160892           0.135495   \n",
       "total_rooms                          0.136090          -0.189316   \n",
       "total_bedrooms                      -0.001659           0.084149   \n",
       "population                          -0.073733           0.035134   \n",
       "households                          -0.083062           0.064185   \n",
       "median_income                        0.336013          -0.616669   \n",
       "median_house_value                   0.158485          -0.257419   \n",
       "rooms_per_household                  1.000000          -0.435169   \n",
       "bedrooms_per_room                   -0.435169           1.000000   \n",
       "population_per_household            -0.004922           0.003938   \n",
       "\n",
       "                          population_per_household  \n",
       "longitude                                -0.000598  \n",
       "latitude                                  0.005837  \n",
       "housing_median_age                        0.016245  \n",
       "total_rooms                              -0.024991  \n",
       "total_bedrooms                           -0.028536  \n",
       "population                                0.072330  \n",
       "households                               -0.027656  \n",
       "median_income                             0.022061  \n",
       "median_house_value                       -0.022030  \n",
       "rooms_per_household                      -0.004922  \n",
       "bedrooms_per_room                         0.003938  \n",
       "population_per_household                  1.000000  "
      ]
     },
     "execution_count": 12,
     "metadata": {},
     "output_type": "execute_result"
    }
   ],
   "source": [
    "full_train.corr()"
   ]
  },
  {
   "cell_type": "code",
   "execution_count": 13,
   "id": "84a73e02",
   "metadata": {},
   "outputs": [
    {
     "data": {
      "text/plain": [
       "latitude           longitude             -0.924485\n",
       "bedrooms_per_room  median_income         -0.616669\n",
       "                   rooms_per_household   -0.435169\n",
       "total_rooms        housing_median_age    -0.360922\n",
       "total_bedrooms     housing_median_age    -0.320624\n",
       "                                            ...   \n",
       "population         total_bedrooms         0.878932\n",
       "households         population             0.907452\n",
       "                   total_rooms            0.920482\n",
       "total_bedrooms     total_rooms            0.930489\n",
       "households         total_bedrooms         0.980255\n",
       "Length: 66, dtype: float64"
      ]
     },
     "execution_count": 13,
     "metadata": {},
     "output_type": "execute_result"
    }
   ],
   "source": [
    "corr_mat = full_train.corr()\n",
    "upper_corr_mat = corr_mat.where(np.triu(np.ones(corr_mat.shape), k=1).astype(np.bool))\n",
    "\n",
    "unique_corr_pairs = upper_corr_mat.unstack().dropna()\n",
    "\n",
    "sorted_mat = unique_corr_pairs.sort_values()\n",
    "sorted_mat"
   ]
  },
  {
   "cell_type": "markdown",
   "id": "e00a3e21",
   "metadata": {},
   "source": [
    "## Make median_house_value binary\n",
    "- We need to turn the median_house_value variable from numeric into binary.\n",
    "- Let's create a variable above_average which is 1 if the median_house_value is above its mean value and 0 otherwise."
   ]
  },
  {
   "cell_type": "code",
   "execution_count": 14,
   "id": "70b8bf89",
   "metadata": {},
   "outputs": [],
   "source": [
    "y_train_num = y_train.copy()\n",
    "y_val_num = y_val.copy()\n",
    "y_test_num = y_test.copy()\n",
    "\n",
    "y_train = (y_train > y_train.mean()).astype(int)\n",
    "y_val = (y_val > y_val.mean()).astype(int)\n",
    "y_test = (y_test > y_test.mean()).astype(int)"
   ]
  },
  {
   "cell_type": "markdown",
   "id": "cdc8c53e",
   "metadata": {},
   "source": [
    "# Question 3\n",
    "- Calculate the mutual information score between above_average and ocean_proximity . Use the training set only.\n",
    "- Round it to 2 decimals using round(score, 2)\n",
    "- What is their mutual information score?"
   ]
  },
  {
   "cell_type": "code",
   "execution_count": 15,
   "id": "5c1ff463",
   "metadata": {},
   "outputs": [
    {
     "data": {
      "text/plain": [
       "0.1"
      ]
     },
     "execution_count": 15,
     "metadata": {},
     "output_type": "execute_result"
    }
   ],
   "source": [
    "round(mutual_info_score(y_train, X_train.ocean_proximity), 2)"
   ]
  },
  {
   "cell_type": "markdown",
   "id": "38ff8239",
   "metadata": {},
   "source": [
    "# Question 4\n",
    "- Now let's train a logistic regression\n",
    "- Remember that we have one categorical variable ocean_proximity in the data. Include it using one-hot encoding.\n",
    "- Fit the model on the training dataset.\n",
    "-- To make sure the results are reproducible across different versions of Scikit-Learn, fit the model with these parameters:\n",
    "-- model = LogisticRegression(solver=\"liblinear\", C=1.0, max_iter=1000, random_state=42)\n",
    "- Calculate the accuracy on the validation dataset and round it to 2 decimal digits."
   ]
  },
  {
   "cell_type": "code",
   "execution_count": 16,
   "id": "68f8c0f7",
   "metadata": {},
   "outputs": [],
   "source": [
    "numerical = [\n",
    "    'latitude',\n",
    "    'longitude',\n",
    "    'housing_median_age',\n",
    "    'total_rooms',\n",
    "    'total_bedrooms',\n",
    "    'population',\n",
    "    'households',\n",
    "    'median_income',\n",
    "    'rooms_per_household',\n",
    "    'bedrooms_per_room',\n",
    "    'population_per_household'\n",
    "]"
   ]
  },
  {
   "cell_type": "code",
   "execution_count": 17,
   "id": "87c0c3e6",
   "metadata": {},
   "outputs": [],
   "source": [
    "train_dicts = X_train[categorical + numerical].to_dict(orient='records')\n",
    "\n",
    "dv = DictVectorizer(sparse=False)\n",
    "x_train = dv.fit_transform(train_dicts)\n",
    "\n",
    "val_dicts = X_val[categorical + numerical].to_dict(orient='records')\n",
    "x_val = dv.transform(val_dicts)\n",
    "\n",
    "test_dicts = X_test[categorical + numerical].to_dict(orient='records')\n",
    "x_test = dv.transform(test_dicts)"
   ]
  },
  {
   "cell_type": "code",
   "execution_count": 18,
   "id": "48edabef",
   "metadata": {},
   "outputs": [
    {
     "data": {
      "text/plain": [
       "LogisticRegression(max_iter=1000, random_state=42, solver='liblinear')"
      ]
     },
     "execution_count": 18,
     "metadata": {},
     "output_type": "execute_result"
    }
   ],
   "source": [
    "model = LogisticRegression(solver=\"liblinear\", C=1.0, max_iter=1000, random_state=42)\n",
    "model.fit(x_train, y_train)"
   ]
  },
  {
   "cell_type": "code",
   "execution_count": 19,
   "id": "a8b36dab",
   "metadata": {},
   "outputs": [
    {
     "data": {
      "text/plain": [
       "0.84"
      ]
     },
     "execution_count": 19,
     "metadata": {},
     "output_type": "execute_result"
    }
   ],
   "source": [
    "y_prod_val = model.predict(x_val)\n",
    "acc = accuracy_score(y_val, y_prod_val)\n",
    "round(acc, 2)"
   ]
  },
  {
   "cell_type": "markdown",
   "id": "eab71552",
   "metadata": {},
   "source": [
    "# Question 5\n",
    "- Let's find the least useful feature using the feature elimination technique.\n",
    "- Train a model with all these features (using the same parameters as in Q4).\n",
    "- Now exclude each feature from this set and train a model without it. Record the accuracy for each model.\n",
    "- For each feature, calculate the difference between the original accuracy and the accuracy without the feature.\n",
    "- Which of following feature has the smallest difference?\n",
    "-- total_rooms\n",
    "-- total_bedrooms\n",
    "-- population\n",
    "-- households"
   ]
  },
  {
   "cell_type": "code",
   "execution_count": 20,
   "id": "0f7b6fcf",
   "metadata": {},
   "outputs": [
    {
     "data": {
      "text/plain": [
       "[('model_wo_median_income', 0.7865794573643411),\n",
       " ('model_wo_ocean_proximity', 0.8204941860465116),\n",
       " ('model_wo_population', 0.8275193798449613),\n",
       " ('model_wo_housing_median_age', 0.8318798449612403),\n",
       " ('model_wo_longitude', 0.8326065891472868),\n",
       " ('model_wo_latitude', 0.8330910852713178),\n",
       " ('model_wo_households', 0.8347868217054264),\n",
       " ('model_wo_rooms_per_household', 0.8359980620155039),\n",
       " ('model_wo_population_per_household', 0.8364825581395349),\n",
       " ('model_wo_total_rooms', 0.8369670542635659),\n",
       " ('model_wo_bedrooms_per_room', 0.8369670542635659),\n",
       " ('model_wo_total_bedrooms', 0.8379360465116279)]"
      ]
     },
     "execution_count": 20,
     "metadata": {},
     "output_type": "execute_result"
    }
   ],
   "source": [
    "results = {}\n",
    "\n",
    "for feature in X_train.columns:\n",
    "    model_x = LogisticRegression(solver=\"liblinear\", C=1.0, max_iter=1000, random_state=42)\n",
    "    tmp_train = X_train.drop(feature, axis=1)\n",
    "    tmp_val = X_val.drop(feature, axis=1)\n",
    "    \n",
    "    dv = DictVectorizer(sparse=False)\n",
    "    tmp_train = dv.fit_transform(tmp_train.to_dict(orient='records'))\n",
    "    tmp_val =  dv.transform(tmp_val.to_dict(orient='records'))\n",
    "    \n",
    "    model_x.fit(tmp_train, y_train)\n",
    "    results[f'model_wo_{feature}'] = accuracy_score(y_val, model_x.predict(tmp_val))\n",
    "sorted(results.items(), key=lambda kv: kv[1])"
   ]
  },
  {
   "cell_type": "code",
   "execution_count": 21,
   "id": "f072903b",
   "metadata": {},
   "outputs": [
    {
     "name": "stdout",
     "output_type": "stream",
     "text": [
      "Different between original & model_wo_longitude = 0.004118217054263629\n",
      "Different between original & model_wo_latitude = 0.00363372093023262\n",
      "Different between original & model_wo_housing_median_age = 0.004844961240310086\n",
      "Different between original & model_wo_total_rooms = -0.0002422480620154488\n",
      "Different between original & model_wo_total_bedrooms = -0.001211240310077466\n",
      "Different between original & model_wo_population = 0.009205426356589164\n",
      "Different between original & model_wo_households = 0.0019379844961240345\n",
      "Different between original & model_wo_median_income = 0.050145348837209336\n",
      "Different between original & model_wo_ocean_proximity = 0.016230620155038844\n",
      "Different between original & model_wo_rooms_per_household = 0.0007267441860465684\n",
      "Different between original & model_wo_bedrooms_per_room = -0.0002422480620154488\n",
      "Different between original & model_wo_population_per_household = 0.00024224806201555982\n"
     ]
    }
   ],
   "source": [
    "for key, value in results.items():\n",
    "    print(f\"Different between original & {key} = {acc - value}\")"
   ]
  },
  {
   "cell_type": "markdown",
   "id": "ae8d33a8",
   "metadata": {},
   "source": [
    "# Question 6\n",
    "- For this question, we'll see how to use a linear regression model from Scikit-Learn\n",
    "- We'll need to use the original column 'median_house_value'. Apply the logarithmic transformation to this column.\n",
    "- Fit the Ridge regression model (model = Ridge(alpha=a, solver=\"sag\", random_state=42)) on the training data.\n",
    "- This model has a parameter alpha. Let's try the following values: [0, 0.01, 0.1, 1, 10]\n",
    "- Which of these alphas leads to the best RMSE on the validation set? Round your RMSE scores to 3 decimal digits.\n",
    "- If there are multiple options, select the smallest alpha."
   ]
  },
  {
   "cell_type": "code",
   "execution_count": 23,
   "id": "d980df63",
   "metadata": {},
   "outputs": [
    {
     "data": {
      "text/plain": [
       "[('alpha_0', 106337.775),\n",
       " ('alpha_0.01', 106337.775),\n",
       " ('alpha_0.1', 106337.775),\n",
       " ('alpha_1', 106337.775),\n",
       " ('alpha_10', 106337.778)]"
      ]
     },
     "execution_count": 23,
     "metadata": {},
     "output_type": "execute_result"
    }
   ],
   "source": [
    "results = {}\n",
    "for a in [0, 0.01, 0.1, 1, 10]:\n",
    "    model = Ridge(alpha=a, solver=\"sag\", random_state=42)\n",
    "    model.fit(x_train, y_train_num)\n",
    "    \n",
    "    results[f'alpha_{a}'] = round(mean_squared_error(y_val_num, model.predict(x_val), squared=False), 3)\n",
    "sorted(results.items(), key=lambda kv: kv[1])"
   ]
  },
  {
   "cell_type": "code",
   "execution_count": null,
   "id": "3b4f7b17",
   "metadata": {},
   "outputs": [],
   "source": []
  }
 ],
 "metadata": {
  "kernelspec": {
   "display_name": "Python 3 (ipykernel)",
   "language": "python",
   "name": "python3"
  },
  "language_info": {
   "codemirror_mode": {
    "name": "ipython",
    "version": 3
   },
   "file_extension": ".py",
   "mimetype": "text/x-python",
   "name": "python",
   "nbconvert_exporter": "python",
   "pygments_lexer": "ipython3",
   "version": "3.8.8"
  }
 },
 "nbformat": 4,
 "nbformat_minor": 5
}

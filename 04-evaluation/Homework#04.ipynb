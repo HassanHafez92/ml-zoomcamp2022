{
 "cells": [
  {
   "cell_type": "code",
   "execution_count": 1,
   "id": "2674e124",
   "metadata": {},
   "outputs": [],
   "source": [
    "import numpy as np\n",
    "import pandas as pd\n",
    "\n",
    "import matplotlib.pyplot as plt\n",
    "import seaborn as sns\n",
    "\n",
    "%matplotlib inline\n",
    "\n",
    "from sklearn.model_selection import train_test_split\n",
    "from sklearn.preprocessing import OneHotEncoder\n",
    "from sklearn.feature_extraction import DictVectorizer\n",
    "from sklearn.linear_model import LogisticRegression, Ridge\n",
    "from sklearn.model_selection import KFold\n",
    "from tqdm.auto import tqdm\n",
    "from sklearn.metrics import accuracy_score, mean_squared_error, roc_auc_score, auc, roc_curve\n",
    "\n",
    "import warnings\n",
    "warnings.filterwarnings(\"ignore\")"
   ]
  },
  {
   "cell_type": "markdown",
   "id": "876a7f79",
   "metadata": {},
   "source": [
    "# EDA"
   ]
  },
  {
   "cell_type": "markdown",
   "id": "8cdc3fff",
   "metadata": {},
   "source": [
    "# Loading the data.\n",
    "\n",
    "In this homework, we will use Credit Card Data from book \"Econometric Analysis\"."
   ]
  },
  {
   "cell_type": "code",
   "execution_count": 2,
   "id": "05d57465",
   "metadata": {},
   "outputs": [
    {
     "data": {
      "text/html": [
       "<div>\n",
       "<style scoped>\n",
       "    .dataframe tbody tr th:only-of-type {\n",
       "        vertical-align: middle;\n",
       "    }\n",
       "\n",
       "    .dataframe tbody tr th {\n",
       "        vertical-align: top;\n",
       "    }\n",
       "\n",
       "    .dataframe thead th {\n",
       "        text-align: right;\n",
       "    }\n",
       "</style>\n",
       "<table border=\"1\" class=\"dataframe\">\n",
       "  <thead>\n",
       "    <tr style=\"text-align: right;\">\n",
       "      <th></th>\n",
       "      <th>0</th>\n",
       "      <th>1</th>\n",
       "      <th>2</th>\n",
       "      <th>3</th>\n",
       "      <th>4</th>\n",
       "      <th>5</th>\n",
       "      <th>6</th>\n",
       "      <th>7</th>\n",
       "      <th>8</th>\n",
       "      <th>9</th>\n",
       "      <th>10</th>\n",
       "      <th>11</th>\n",
       "      <th>12</th>\n",
       "      <th>13</th>\n",
       "      <th>14</th>\n",
       "      <th>15</th>\n",
       "      <th>16</th>\n",
       "      <th>17</th>\n",
       "      <th>18</th>\n",
       "      <th>19</th>\n",
       "    </tr>\n",
       "  </thead>\n",
       "  <tbody>\n",
       "    <tr>\n",
       "      <th>card</th>\n",
       "      <td>yes</td>\n",
       "      <td>yes</td>\n",
       "      <td>yes</td>\n",
       "      <td>yes</td>\n",
       "      <td>yes</td>\n",
       "      <td>yes</td>\n",
       "      <td>yes</td>\n",
       "      <td>yes</td>\n",
       "      <td>yes</td>\n",
       "      <td>yes</td>\n",
       "      <td>yes</td>\n",
       "      <td>no</td>\n",
       "      <td>no</td>\n",
       "      <td>yes</td>\n",
       "      <td>yes</td>\n",
       "      <td>yes</td>\n",
       "      <td>yes</td>\n",
       "      <td>no</td>\n",
       "      <td>yes</td>\n",
       "      <td>no</td>\n",
       "    </tr>\n",
       "    <tr>\n",
       "      <th>reports</th>\n",
       "      <td>0</td>\n",
       "      <td>0</td>\n",
       "      <td>0</td>\n",
       "      <td>0</td>\n",
       "      <td>0</td>\n",
       "      <td>0</td>\n",
       "      <td>0</td>\n",
       "      <td>0</td>\n",
       "      <td>0</td>\n",
       "      <td>0</td>\n",
       "      <td>0</td>\n",
       "      <td>0</td>\n",
       "      <td>0</td>\n",
       "      <td>0</td>\n",
       "      <td>0</td>\n",
       "      <td>0</td>\n",
       "      <td>0</td>\n",
       "      <td>7</td>\n",
       "      <td>0</td>\n",
       "      <td>3</td>\n",
       "    </tr>\n",
       "    <tr>\n",
       "      <th>age</th>\n",
       "      <td>37.66667</td>\n",
       "      <td>33.25</td>\n",
       "      <td>33.66667</td>\n",
       "      <td>30.5</td>\n",
       "      <td>32.16667</td>\n",
       "      <td>23.25</td>\n",
       "      <td>27.91667</td>\n",
       "      <td>29.16667</td>\n",
       "      <td>37.0</td>\n",
       "      <td>28.41667</td>\n",
       "      <td>30.5</td>\n",
       "      <td>42.0</td>\n",
       "      <td>30.0</td>\n",
       "      <td>28.83333</td>\n",
       "      <td>35.33333</td>\n",
       "      <td>41.16667</td>\n",
       "      <td>40.08333</td>\n",
       "      <td>29.5</td>\n",
       "      <td>39.5</td>\n",
       "      <td>45.75</td>\n",
       "    </tr>\n",
       "    <tr>\n",
       "      <th>income</th>\n",
       "      <td>4.52</td>\n",
       "      <td>2.42</td>\n",
       "      <td>4.5</td>\n",
       "      <td>2.54</td>\n",
       "      <td>9.7867</td>\n",
       "      <td>2.5</td>\n",
       "      <td>3.96</td>\n",
       "      <td>2.37</td>\n",
       "      <td>3.8</td>\n",
       "      <td>3.2</td>\n",
       "      <td>3.95</td>\n",
       "      <td>1.98</td>\n",
       "      <td>1.73</td>\n",
       "      <td>2.45</td>\n",
       "      <td>1.908</td>\n",
       "      <td>3.2</td>\n",
       "      <td>4.0</td>\n",
       "      <td>3.0</td>\n",
       "      <td>9.9999</td>\n",
       "      <td>3.4</td>\n",
       "    </tr>\n",
       "    <tr>\n",
       "      <th>share</th>\n",
       "      <td>0.03327</td>\n",
       "      <td>0.005217</td>\n",
       "      <td>0.004156</td>\n",
       "      <td>0.065214</td>\n",
       "      <td>0.067051</td>\n",
       "      <td>0.044438</td>\n",
       "      <td>0.012576</td>\n",
       "      <td>0.076434</td>\n",
       "      <td>0.245628</td>\n",
       "      <td>0.01978</td>\n",
       "      <td>0.078025</td>\n",
       "      <td>0.000606</td>\n",
       "      <td>0.000694</td>\n",
       "      <td>0.038796</td>\n",
       "      <td>0.026907</td>\n",
       "      <td>0.125819</td>\n",
       "      <td>0.074816</td>\n",
       "      <td>0.0004</td>\n",
       "      <td>0.065795</td>\n",
       "      <td>0.000353</td>\n",
       "    </tr>\n",
       "    <tr>\n",
       "      <th>expenditure</th>\n",
       "      <td>124.9833</td>\n",
       "      <td>9.854167</td>\n",
       "      <td>15.0</td>\n",
       "      <td>137.8692</td>\n",
       "      <td>546.5033</td>\n",
       "      <td>91.99667</td>\n",
       "      <td>40.83333</td>\n",
       "      <td>150.79</td>\n",
       "      <td>777.8217</td>\n",
       "      <td>52.58</td>\n",
       "      <td>256.6642</td>\n",
       "      <td>0.0</td>\n",
       "      <td>0.0</td>\n",
       "      <td>78.87417</td>\n",
       "      <td>42.615</td>\n",
       "      <td>335.435</td>\n",
       "      <td>248.7192</td>\n",
       "      <td>0.0</td>\n",
       "      <td>548.035</td>\n",
       "      <td>0.0</td>\n",
       "    </tr>\n",
       "    <tr>\n",
       "      <th>owner</th>\n",
       "      <td>yes</td>\n",
       "      <td>no</td>\n",
       "      <td>yes</td>\n",
       "      <td>no</td>\n",
       "      <td>yes</td>\n",
       "      <td>no</td>\n",
       "      <td>no</td>\n",
       "      <td>yes</td>\n",
       "      <td>yes</td>\n",
       "      <td>no</td>\n",
       "      <td>yes</td>\n",
       "      <td>yes</td>\n",
       "      <td>yes</td>\n",
       "      <td>yes</td>\n",
       "      <td>yes</td>\n",
       "      <td>yes</td>\n",
       "      <td>yes</td>\n",
       "      <td>yes</td>\n",
       "      <td>yes</td>\n",
       "      <td>no</td>\n",
       "    </tr>\n",
       "    <tr>\n",
       "      <th>selfemp</th>\n",
       "      <td>no</td>\n",
       "      <td>no</td>\n",
       "      <td>no</td>\n",
       "      <td>no</td>\n",
       "      <td>no</td>\n",
       "      <td>no</td>\n",
       "      <td>no</td>\n",
       "      <td>no</td>\n",
       "      <td>no</td>\n",
       "      <td>no</td>\n",
       "      <td>no</td>\n",
       "      <td>no</td>\n",
       "      <td>no</td>\n",
       "      <td>no</td>\n",
       "      <td>no</td>\n",
       "      <td>no</td>\n",
       "      <td>no</td>\n",
       "      <td>no</td>\n",
       "      <td>yes</td>\n",
       "      <td>no</td>\n",
       "    </tr>\n",
       "    <tr>\n",
       "      <th>dependents</th>\n",
       "      <td>3</td>\n",
       "      <td>3</td>\n",
       "      <td>4</td>\n",
       "      <td>0</td>\n",
       "      <td>2</td>\n",
       "      <td>0</td>\n",
       "      <td>2</td>\n",
       "      <td>0</td>\n",
       "      <td>0</td>\n",
       "      <td>0</td>\n",
       "      <td>1</td>\n",
       "      <td>2</td>\n",
       "      <td>1</td>\n",
       "      <td>0</td>\n",
       "      <td>2</td>\n",
       "      <td>1</td>\n",
       "      <td>2</td>\n",
       "      <td>2</td>\n",
       "      <td>0</td>\n",
       "      <td>0</td>\n",
       "    </tr>\n",
       "    <tr>\n",
       "      <th>months</th>\n",
       "      <td>54</td>\n",
       "      <td>34</td>\n",
       "      <td>58</td>\n",
       "      <td>25</td>\n",
       "      <td>64</td>\n",
       "      <td>54</td>\n",
       "      <td>7</td>\n",
       "      <td>77</td>\n",
       "      <td>97</td>\n",
       "      <td>65</td>\n",
       "      <td>24</td>\n",
       "      <td>36</td>\n",
       "      <td>42</td>\n",
       "      <td>26</td>\n",
       "      <td>120</td>\n",
       "      <td>168</td>\n",
       "      <td>96</td>\n",
       "      <td>60</td>\n",
       "      <td>28</td>\n",
       "      <td>28</td>\n",
       "    </tr>\n",
       "    <tr>\n",
       "      <th>majorcards</th>\n",
       "      <td>1</td>\n",
       "      <td>1</td>\n",
       "      <td>1</td>\n",
       "      <td>1</td>\n",
       "      <td>1</td>\n",
       "      <td>1</td>\n",
       "      <td>1</td>\n",
       "      <td>1</td>\n",
       "      <td>1</td>\n",
       "      <td>1</td>\n",
       "      <td>1</td>\n",
       "      <td>1</td>\n",
       "      <td>0</td>\n",
       "      <td>1</td>\n",
       "      <td>0</td>\n",
       "      <td>1</td>\n",
       "      <td>1</td>\n",
       "      <td>1</td>\n",
       "      <td>1</td>\n",
       "      <td>1</td>\n",
       "    </tr>\n",
       "    <tr>\n",
       "      <th>active</th>\n",
       "      <td>12</td>\n",
       "      <td>13</td>\n",
       "      <td>5</td>\n",
       "      <td>7</td>\n",
       "      <td>5</td>\n",
       "      <td>1</td>\n",
       "      <td>5</td>\n",
       "      <td>3</td>\n",
       "      <td>6</td>\n",
       "      <td>18</td>\n",
       "      <td>20</td>\n",
       "      <td>0</td>\n",
       "      <td>12</td>\n",
       "      <td>3</td>\n",
       "      <td>5</td>\n",
       "      <td>22</td>\n",
       "      <td>0</td>\n",
       "      <td>8</td>\n",
       "      <td>0</td>\n",
       "      <td>10</td>\n",
       "    </tr>\n",
       "  </tbody>\n",
       "</table>\n",
       "</div>"
      ],
      "text/plain": [
       "                   0         1         2         3         4         5   \\\n",
       "card              yes       yes       yes       yes       yes       yes   \n",
       "reports             0         0         0         0         0         0   \n",
       "age          37.66667     33.25  33.66667      30.5  32.16667     23.25   \n",
       "income           4.52      2.42       4.5      2.54    9.7867       2.5   \n",
       "share         0.03327  0.005217  0.004156  0.065214  0.067051  0.044438   \n",
       "expenditure  124.9833  9.854167      15.0  137.8692  546.5033  91.99667   \n",
       "owner             yes        no       yes        no       yes        no   \n",
       "selfemp            no        no        no        no        no        no   \n",
       "dependents          3         3         4         0         2         0   \n",
       "months             54        34        58        25        64        54   \n",
       "majorcards          1         1         1         1         1         1   \n",
       "active             12        13         5         7         5         1   \n",
       "\n",
       "                   6         7         8         9         10        11  \\\n",
       "card              yes       yes       yes       yes       yes        no   \n",
       "reports             0         0         0         0         0         0   \n",
       "age          27.91667  29.16667      37.0  28.41667      30.5      42.0   \n",
       "income           3.96      2.37       3.8       3.2      3.95      1.98   \n",
       "share        0.012576  0.076434  0.245628   0.01978  0.078025  0.000606   \n",
       "expenditure  40.83333    150.79  777.8217     52.58  256.6642       0.0   \n",
       "owner              no       yes       yes        no       yes       yes   \n",
       "selfemp            no        no        no        no        no        no   \n",
       "dependents          2         0         0         0         1         2   \n",
       "months              7        77        97        65        24        36   \n",
       "majorcards          1         1         1         1         1         1   \n",
       "active              5         3         6        18        20         0   \n",
       "\n",
       "                   12        13        14        15        16      17  \\\n",
       "card               no       yes       yes       yes       yes      no   \n",
       "reports             0         0         0         0         0       7   \n",
       "age              30.0  28.83333  35.33333  41.16667  40.08333    29.5   \n",
       "income           1.73      2.45     1.908       3.2       4.0     3.0   \n",
       "share        0.000694  0.038796  0.026907  0.125819  0.074816  0.0004   \n",
       "expenditure       0.0  78.87417    42.615   335.435  248.7192     0.0   \n",
       "owner             yes       yes       yes       yes       yes     yes   \n",
       "selfemp            no        no        no        no        no      no   \n",
       "dependents          1         0         2         1         2       2   \n",
       "months             42        26       120       168        96      60   \n",
       "majorcards          0         1         0         1         1       1   \n",
       "active             12         3         5        22         0       8   \n",
       "\n",
       "                   18        19  \n",
       "card              yes        no  \n",
       "reports             0         3  \n",
       "age              39.5     45.75  \n",
       "income         9.9999       3.4  \n",
       "share        0.065795  0.000353  \n",
       "expenditure   548.035       0.0  \n",
       "owner             yes        no  \n",
       "selfemp           yes        no  \n",
       "dependents          0         0  \n",
       "months             28        28  \n",
       "majorcards          1         1  \n",
       "active              0        10  "
      ]
     },
     "execution_count": 2,
     "metadata": {},
     "output_type": "execute_result"
    }
   ],
   "source": [
    "df = pd.read_csv('AER_credit_card_data.csv')\n",
    "df.head(20).T"
   ]
  },
  {
   "cell_type": "markdown",
   "id": "32065df9",
   "metadata": {},
   "source": [
    "### Content\n",
    "- card: Dummy variable, 1 if application for credit card accepted, 0 if not\n",
    "- reports: Number of major derogatory reports\n",
    "- age: Age n years plus twelfths of a year\n",
    "- income: Yearly income (divided by 10,000)\n",
    "- share: Ratio of monthly credit card expenditure to yearly income\n",
    "- expenditure: Average monthly credit card expenditure\n",
    "- owner: 1 if owns their home, 0 if rent\n",
    "- selfempl: 1 if self employed, 0 if not.\n",
    "- dependents: 1 + number of dependents\n",
    "- months: Months living at current address\n",
    "- majorcards: Number of major credit cards held\n",
    "- active: Number of active credit accounts"
   ]
  },
  {
   "cell_type": "code",
   "execution_count": 3,
   "id": "7f9c6b8c",
   "metadata": {},
   "outputs": [
    {
     "data": {
      "text/plain": [
       "card            object\n",
       "reports          int64\n",
       "age            float64\n",
       "income         float64\n",
       "share          float64\n",
       "expenditure    float64\n",
       "owner           object\n",
       "selfemp         object\n",
       "dependents       int64\n",
       "months           int64\n",
       "majorcards       int64\n",
       "active           int64\n",
       "dtype: object"
      ]
     },
     "execution_count": 3,
     "metadata": {},
     "output_type": "execute_result"
    }
   ],
   "source": [
    "df.dtypes"
   ]
  },
  {
   "cell_type": "code",
   "execution_count": 4,
   "id": "6e24ad5b",
   "metadata": {
    "scrolled": true
   },
   "outputs": [
    {
     "data": {
      "text/plain": [
       "card           0\n",
       "reports        0\n",
       "age            0\n",
       "income         0\n",
       "share          0\n",
       "expenditure    0\n",
       "owner          0\n",
       "selfemp        0\n",
       "dependents     0\n",
       "months         0\n",
       "majorcards     0\n",
       "active         0\n",
       "dtype: int64"
      ]
     },
     "execution_count": 4,
     "metadata": {},
     "output_type": "execute_result"
    }
   ],
   "source": [
    "df.isnull().sum()"
   ]
  },
  {
   "cell_type": "code",
   "execution_count": 5,
   "id": "9bb71d6c",
   "metadata": {},
   "outputs": [
    {
     "data": {
      "text/html": [
       "<div>\n",
       "<style scoped>\n",
       "    .dataframe tbody tr th:only-of-type {\n",
       "        vertical-align: middle;\n",
       "    }\n",
       "\n",
       "    .dataframe tbody tr th {\n",
       "        vertical-align: top;\n",
       "    }\n",
       "\n",
       "    .dataframe thead th {\n",
       "        text-align: right;\n",
       "    }\n",
       "</style>\n",
       "<table border=\"1\" class=\"dataframe\">\n",
       "  <thead>\n",
       "    <tr style=\"text-align: right;\">\n",
       "      <th></th>\n",
       "      <th>0</th>\n",
       "      <th>1</th>\n",
       "      <th>2</th>\n",
       "      <th>3</th>\n",
       "      <th>4</th>\n",
       "      <th>5</th>\n",
       "      <th>6</th>\n",
       "      <th>7</th>\n",
       "      <th>8</th>\n",
       "      <th>9</th>\n",
       "    </tr>\n",
       "  </thead>\n",
       "  <tbody>\n",
       "    <tr>\n",
       "      <th>card</th>\n",
       "      <td>yes</td>\n",
       "      <td>yes</td>\n",
       "      <td>yes</td>\n",
       "      <td>yes</td>\n",
       "      <td>yes</td>\n",
       "      <td>yes</td>\n",
       "      <td>yes</td>\n",
       "      <td>yes</td>\n",
       "      <td>yes</td>\n",
       "      <td>yes</td>\n",
       "    </tr>\n",
       "    <tr>\n",
       "      <th>reports</th>\n",
       "      <td>0</td>\n",
       "      <td>0</td>\n",
       "      <td>0</td>\n",
       "      <td>0</td>\n",
       "      <td>0</td>\n",
       "      <td>0</td>\n",
       "      <td>0</td>\n",
       "      <td>0</td>\n",
       "      <td>0</td>\n",
       "      <td>0</td>\n",
       "    </tr>\n",
       "    <tr>\n",
       "      <th>age</th>\n",
       "      <td>37.66667</td>\n",
       "      <td>33.25</td>\n",
       "      <td>33.66667</td>\n",
       "      <td>30.5</td>\n",
       "      <td>32.16667</td>\n",
       "      <td>23.25</td>\n",
       "      <td>27.91667</td>\n",
       "      <td>29.16667</td>\n",
       "      <td>37.0</td>\n",
       "      <td>28.41667</td>\n",
       "    </tr>\n",
       "    <tr>\n",
       "      <th>income</th>\n",
       "      <td>4.52</td>\n",
       "      <td>2.42</td>\n",
       "      <td>4.5</td>\n",
       "      <td>2.54</td>\n",
       "      <td>9.7867</td>\n",
       "      <td>2.5</td>\n",
       "      <td>3.96</td>\n",
       "      <td>2.37</td>\n",
       "      <td>3.8</td>\n",
       "      <td>3.2</td>\n",
       "    </tr>\n",
       "    <tr>\n",
       "      <th>share</th>\n",
       "      <td>0.03327</td>\n",
       "      <td>0.005217</td>\n",
       "      <td>0.004156</td>\n",
       "      <td>0.065214</td>\n",
       "      <td>0.067051</td>\n",
       "      <td>0.044438</td>\n",
       "      <td>0.012576</td>\n",
       "      <td>0.076434</td>\n",
       "      <td>0.245628</td>\n",
       "      <td>0.01978</td>\n",
       "    </tr>\n",
       "    <tr>\n",
       "      <th>expenditure</th>\n",
       "      <td>124.9833</td>\n",
       "      <td>9.854167</td>\n",
       "      <td>15.0</td>\n",
       "      <td>137.8692</td>\n",
       "      <td>546.5033</td>\n",
       "      <td>91.99667</td>\n",
       "      <td>40.83333</td>\n",
       "      <td>150.79</td>\n",
       "      <td>777.8217</td>\n",
       "      <td>52.58</td>\n",
       "    </tr>\n",
       "    <tr>\n",
       "      <th>owner</th>\n",
       "      <td>yes</td>\n",
       "      <td>no</td>\n",
       "      <td>yes</td>\n",
       "      <td>no</td>\n",
       "      <td>yes</td>\n",
       "      <td>no</td>\n",
       "      <td>no</td>\n",
       "      <td>yes</td>\n",
       "      <td>yes</td>\n",
       "      <td>no</td>\n",
       "    </tr>\n",
       "    <tr>\n",
       "      <th>selfemp</th>\n",
       "      <td>no</td>\n",
       "      <td>no</td>\n",
       "      <td>no</td>\n",
       "      <td>no</td>\n",
       "      <td>no</td>\n",
       "      <td>no</td>\n",
       "      <td>no</td>\n",
       "      <td>no</td>\n",
       "      <td>no</td>\n",
       "      <td>no</td>\n",
       "    </tr>\n",
       "    <tr>\n",
       "      <th>dependents</th>\n",
       "      <td>3</td>\n",
       "      <td>3</td>\n",
       "      <td>4</td>\n",
       "      <td>0</td>\n",
       "      <td>2</td>\n",
       "      <td>0</td>\n",
       "      <td>2</td>\n",
       "      <td>0</td>\n",
       "      <td>0</td>\n",
       "      <td>0</td>\n",
       "    </tr>\n",
       "    <tr>\n",
       "      <th>months</th>\n",
       "      <td>54</td>\n",
       "      <td>34</td>\n",
       "      <td>58</td>\n",
       "      <td>25</td>\n",
       "      <td>64</td>\n",
       "      <td>54</td>\n",
       "      <td>7</td>\n",
       "      <td>77</td>\n",
       "      <td>97</td>\n",
       "      <td>65</td>\n",
       "    </tr>\n",
       "    <tr>\n",
       "      <th>majorcards</th>\n",
       "      <td>1</td>\n",
       "      <td>1</td>\n",
       "      <td>1</td>\n",
       "      <td>1</td>\n",
       "      <td>1</td>\n",
       "      <td>1</td>\n",
       "      <td>1</td>\n",
       "      <td>1</td>\n",
       "      <td>1</td>\n",
       "      <td>1</td>\n",
       "    </tr>\n",
       "    <tr>\n",
       "      <th>active</th>\n",
       "      <td>12</td>\n",
       "      <td>13</td>\n",
       "      <td>5</td>\n",
       "      <td>7</td>\n",
       "      <td>5</td>\n",
       "      <td>1</td>\n",
       "      <td>5</td>\n",
       "      <td>3</td>\n",
       "      <td>6</td>\n",
       "      <td>18</td>\n",
       "    </tr>\n",
       "  </tbody>\n",
       "</table>\n",
       "</div>"
      ],
      "text/plain": [
       "                    0         1         2         3         4         5  \\\n",
       "card              yes       yes       yes       yes       yes       yes   \n",
       "reports             0         0         0         0         0         0   \n",
       "age          37.66667     33.25  33.66667      30.5  32.16667     23.25   \n",
       "income           4.52      2.42       4.5      2.54    9.7867       2.5   \n",
       "share         0.03327  0.005217  0.004156  0.065214  0.067051  0.044438   \n",
       "expenditure  124.9833  9.854167      15.0  137.8692  546.5033  91.99667   \n",
       "owner             yes        no       yes        no       yes        no   \n",
       "selfemp            no        no        no        no        no        no   \n",
       "dependents          3         3         4         0         2         0   \n",
       "months             54        34        58        25        64        54   \n",
       "majorcards          1         1         1         1         1         1   \n",
       "active             12        13         5         7         5         1   \n",
       "\n",
       "                    6         7         8         9  \n",
       "card              yes       yes       yes       yes  \n",
       "reports             0         0         0         0  \n",
       "age          27.91667  29.16667      37.0  28.41667  \n",
       "income           3.96      2.37       3.8       3.2  \n",
       "share        0.012576  0.076434  0.245628   0.01978  \n",
       "expenditure  40.83333    150.79  777.8217     52.58  \n",
       "owner              no       yes       yes        no  \n",
       "selfemp            no        no        no        no  \n",
       "dependents          2         0         0         0  \n",
       "months              7        77        97        65  \n",
       "majorcards          1         1         1         1  \n",
       "active              5         3         6        18  "
      ]
     },
     "execution_count": 5,
     "metadata": {},
     "output_type": "execute_result"
    }
   ],
   "source": [
    "df.columns = df.columns.str.lower().str.replace(\" \", \"_\")\n",
    "categorical_columns = list(df.dtypes[df.dtypes == 'object'].index)\n",
    "\n",
    "for c in categorical_columns:\n",
    "    df[c] = df[c].str.lower().str.replace(\" \", \"_\")\n",
    "df.head(10).T"
   ]
  },
  {
   "cell_type": "markdown",
   "id": "d00f457b",
   "metadata": {},
   "source": [
    "Create the target variable by mapping yes to 1 and no to 0.\n"
   ]
  },
  {
   "cell_type": "code",
   "execution_count": 6,
   "id": "d402c834",
   "metadata": {},
   "outputs": [
    {
     "data": {
      "text/plain": [
       "0    1\n",
       "1    1\n",
       "2    1\n",
       "3    1\n",
       "4    1\n",
       "5    1\n",
       "6    1\n",
       "7    1\n",
       "8    1\n",
       "9    1\n",
       "Name: card, dtype: int32"
      ]
     },
     "execution_count": 6,
     "metadata": {},
     "output_type": "execute_result"
    }
   ],
   "source": [
    "# convert churn column into integer column\n",
    "df.card = (df.card == 'yes').astype(int)\n",
    "df.card.head(10)"
   ]
  },
  {
   "cell_type": "markdown",
   "id": "8a015201",
   "metadata": {},
   "source": [
    "Split the dataset into 3 parts: train/validation/test with 60%/20%/20% distribution. Use train_test_split funciton for that with random_state=1."
   ]
  },
  {
   "cell_type": "code",
   "execution_count": 7,
   "id": "99bed46a",
   "metadata": {},
   "outputs": [],
   "source": [
    "full_train, X_test = train_test_split(df, test_size=0.2, random_state=1)\n",
    "X_train, X_val = train_test_split(full_train, test_size=0.25, random_state=1)\n",
    "\n",
    "\n",
    "X_train.reset_index(drop=True, inplace=True)\n",
    "X_test.reset_index(drop=True, inplace=True)\n",
    "X_val.reset_index(drop=True, inplace=True)\n",
    "\n",
    "\n",
    "y_train = X_train.card.values\n",
    "y_test = X_test.card.values\n",
    "y_val = X_val.card.values\n",
    "\n",
    "\n",
    "X_train.drop(['card'],  inplace=True, axis=1)\n",
    "X_val.drop(['card'],  inplace=True, axis=1)\n",
    "X_test.drop(['card'],  inplace=True, axis=1)"
   ]
  },
  {
   "cell_type": "code",
   "execution_count": 8,
   "id": "77dd7c0d",
   "metadata": {},
   "outputs": [
    {
     "data": {
      "text/plain": [
       "1    0.781991\n",
       "0    0.218009\n",
       "Name: card, dtype: float64"
      ]
     },
     "execution_count": 8,
     "metadata": {},
     "output_type": "execute_result"
    }
   ],
   "source": [
    "# calculate card rate\n",
    "full_train.card.value_counts(normalize=True)"
   ]
  },
  {
   "cell_type": "code",
   "execution_count": 9,
   "id": "828d4e2e",
   "metadata": {},
   "outputs": [
    {
     "data": {
      "text/plain": [
       "264"
      ]
     },
     "execution_count": 9,
     "metadata": {},
     "output_type": "execute_result"
    }
   ],
   "source": [
    "len(y_val)"
   ]
  },
  {
   "cell_type": "markdown",
   "id": "be0b708c",
   "metadata": {},
   "source": [
    "# Question 1\n",
    "ROC AUC could also be used to evaluate feature importance of numerical variables.\n",
    "\n",
    "Let's do that\n",
    "\n",
    "- For each numerical variable, use it as score and compute AUC with the card variable.\n",
    "- Use the training dataset for that.\n",
    "- If your AUC is < 0.5, invert this variable by putting \"-\" in front\n",
    "\n",
    "(e.g. -df_train['expenditure'])\n",
    "\n",
    "AUC can go below 0.5 if the variable is negatively correlated with the target varialble. You can change the direction of the correlation by negating this variable - then negative correlation becomes positive.\n",
    "\n",
    "Which numerical variable (among the following 4) has the highest AUC?"
   ]
  },
  {
   "cell_type": "code",
   "execution_count": 10,
   "id": "5ad723ca",
   "metadata": {},
   "outputs": [],
   "source": [
    "dv = DictVectorizer(sparse=False)"
   ]
  },
  {
   "cell_type": "code",
   "execution_count": 11,
   "id": "381685ed",
   "metadata": {},
   "outputs": [],
   "source": [
    "columns = [\"reports\",\n",
    "            \"share\",\n",
    "            \"dependents\", \n",
    "            \"active\"]"
   ]
  },
  {
   "cell_type": "code",
   "execution_count": 12,
   "id": "c9712c50",
   "metadata": {},
   "outputs": [
    {
     "name": "stdout",
     "output_type": "stream",
     "text": [
      "Feature: reports >>>> ROC AUC Score 0.6593376764386536\n",
      "Feature: share >>>> ROC AUC Score 0.5\n",
      "Feature: dependents >>>> ROC AUC Score 0.5\n",
      "Feature: active >>>> ROC AUC Score 0.5\n"
     ]
    },
    {
     "data": {
      "image/png": "[encoded data removed]",
      "text/plain": [
       "<Figure size 360x360 with 1 Axes>"
      ]
     },
     "metadata": {
      "needs_background": "light"
     },
     "output_type": "display_data"
    },
    {
     "data": {
      "image/png": "[encoded data removed]",
      "text/plain": [
       "<Figure size 360x360 with 1 Axes>"
      ]
     },
     "metadata": {
      "needs_background": "light"
     },
     "output_type": "display_data"
    },
    {
     "data": {
      "image/png": "[encoded data removed]",
      "text/plain": [
       "<Figure size 360x360 with 1 Axes>"
      ]
     },
     "metadata": {
      "needs_background": "light"
     },
     "output_type": "display_data"
    },
    {
     "data": {
      "image/png": "[encoded data removed]",
      "text/plain": [
       "<Figure size 360x360 with 1 Axes>"
      ]
     },
     "metadata": {
      "needs_background": "light"
     },
     "output_type": "display_data"
    }
   ],
   "source": [
    "for column in columns:\n",
    "    X_train_ =pd.DataFrame(X_train[column])\n",
    "    train_dict = X_train_.to_dict(orient='records')\n",
    "    x_train = dv.fit_transform(train_dict)\n",
    "\n",
    "    model = LogisticRegression()\n",
    "    model.fit(x_train, y_train)\n",
    "    \n",
    "    y_pred_t = model.predict(x_train)\n",
    "    \n",
    "    print('Feature: ' +column, '>>>> ROC AUC Score', roc_auc_score(y_train, y_pred_t))\n",
    "    \n",
    "    fpr, tpr, thresholds = roc_curve(y_train, y_pred_t)\n",
    "    \n",
    "    plt.figure(figsize=(5, 5))\n",
    "\n",
    "    plt.plot(fpr, tpr, label='Model')\n",
    "    plt.plot([0, 1], [0, 1], label='Random', linestyle='--')\n",
    "\n",
    "    plt.xlabel('FPR')\n",
    "    plt.ylabel('TPR')\n",
    "\n",
    "    plt.legend()"
   ]
  },
  {
   "cell_type": "markdown",
   "id": "c824aa99",
   "metadata": {},
   "source": [
    "# Training the model\n",
    "From now on, use these columns only:"
   ]
  },
  {
   "cell_type": "code",
   "execution_count": 13,
   "id": "7efa8381",
   "metadata": {},
   "outputs": [],
   "source": [
    "numerical =[\"reports\",\n",
    "            \"age\",\n",
    "            \"income\",\n",
    "            \"share\",\n",
    "            \"expenditure\",\n",
    "            \"dependents\", \n",
    "            \"months\",\n",
    "            \"majorcards\",\n",
    "            \"active\"]"
   ]
  },
  {
   "cell_type": "code",
   "execution_count": 14,
   "id": "cf439738",
   "metadata": {},
   "outputs": [],
   "source": [
    "categorical  = [\"owner\", \n",
    "                \"selfemp\"]"
   ]
  },
  {
   "cell_type": "code",
   "execution_count": 15,
   "id": "abc99b9c",
   "metadata": {},
   "outputs": [
    {
     "data": {
      "text/plain": [
       "LogisticRegression(max_iter=1000, solver='liblinear')"
      ]
     },
     "execution_count": 15,
     "metadata": {},
     "output_type": "execute_result"
    }
   ],
   "source": [
    "X_train_ =pd.DataFrame(X_train[numerical + categorical])\n",
    "train_dict = X_train_.to_dict(orient='records')\n",
    "x_train = dv.fit_transform(train_dict)\n",
    "\n",
    "X_val_ =pd.DataFrame(X_val[numerical + categorical])\n",
    "val_dict = X_val_.to_dict(orient='records')\n",
    "x_val = dv.fit_transform(val_dict)\n",
    "\n",
    "model = LogisticRegression(solver='liblinear', C=1.0, max_iter=1000)\n",
    "model.fit(x_train, y_train)"
   ]
  },
  {
   "cell_type": "markdown",
   "id": "a293fa55",
   "metadata": {},
   "source": [
    "# Question 2\n",
    "What's the AUC of this model on the validation dataset? (round to 3 digits)"
   ]
  },
  {
   "cell_type": "code",
   "execution_count": 16,
   "id": "84b24232",
   "metadata": {},
   "outputs": [
    {
     "data": {
      "text/plain": [
       "0.9696969696969697"
      ]
     },
     "execution_count": 16,
     "metadata": {},
     "output_type": "execute_result"
    }
   ],
   "source": [
    "y_pred_v = model.predict_proba(x_val)[:,1]\n",
    "card_acc = (y_pred_v > 0.5)\n",
    "(y_val == card_acc).mean()"
   ]
  },
  {
   "cell_type": "code",
   "execution_count": 17,
   "id": "a61683b4",
   "metadata": {
    "scrolled": true
   },
   "outputs": [
    {
     "name": "stdout",
     "output_type": "stream",
     "text": [
      "0.995\n"
     ]
    }
   ],
   "source": [
    "print('%0.3f'% roc_auc_score(y_val, y_pred_v))"
   ]
  },
  {
   "cell_type": "code",
   "execution_count": 18,
   "id": "f3cb2f93",
   "metadata": {},
   "outputs": [
    {
     "name": "stdout",
     "output_type": "stream",
     "text": [
      "0.995\n"
     ]
    }
   ],
   "source": [
    "fpr, tpr, thresholds = roc_curve(y_val, y_pred_v)\n",
    "auc = auc(fpr, tpr)\n",
    "print('%0.3f'% (auc))"
   ]
  },
  {
   "cell_type": "markdown",
   "id": "e89e37b6",
   "metadata": {},
   "source": [
    "# Question 3\n",
    "Now let's compute precision and recall for our model.\n",
    "\n",
    "- Evaluate the model on the validation dataset on all thresholds from 0.0 to 1.0 with step 0.01\n",
    "- For each threshold, compute precision and recall\n",
    "- Plot them\n",
    "\n",
    "At which threshold precision and recall curves intersect?"
   ]
  },
  {
   "cell_type": "code",
   "execution_count": 19,
   "id": "8b7e0e80",
   "metadata": {},
   "outputs": [
    {
     "data": {
      "text/plain": [
       "array([0.  , 0.01, 0.02, 0.03, 0.04, 0.05, 0.06, 0.07, 0.08, 0.09, 0.1 ,\n",
       "       0.11, 0.12, 0.13, 0.14, 0.15, 0.16, 0.17, 0.18, 0.19, 0.2 , 0.21,\n",
       "       0.22, 0.23, 0.24, 0.25, 0.26, 0.27, 0.28, 0.29, 0.3 , 0.31, 0.32,\n",
       "       0.33, 0.34, 0.35, 0.36, 0.37, 0.38, 0.39, 0.4 , 0.41, 0.42, 0.43,\n",
       "       0.44, 0.45, 0.46, 0.47, 0.48, 0.49, 0.5 , 0.51, 0.52, 0.53, 0.54,\n",
       "       0.55, 0.56, 0.57, 0.58, 0.59, 0.6 , 0.61, 0.62, 0.63, 0.64, 0.65,\n",
       "       0.66, 0.67, 0.68, 0.69, 0.7 , 0.71, 0.72, 0.73, 0.74, 0.75, 0.76,\n",
       "       0.77, 0.78, 0.79, 0.8 , 0.81, 0.82, 0.83, 0.84, 0.85, 0.86, 0.87,\n",
       "       0.88, 0.89, 0.9 , 0.91, 0.92, 0.93, 0.94, 0.95, 0.96, 0.97, 0.98,\n",
       "       0.99, 1.  ])"
      ]
     },
     "execution_count": 19,
     "metadata": {},
     "output_type": "execute_result"
    }
   ],
   "source": [
    "thresholds = np.linspace(0,1,101)\n",
    "thresholds"
   ]
  },
  {
   "cell_type": "markdown",
   "id": "225fab8f",
   "metadata": {},
   "source": [
    "# Precision: Fraction of positive predictions that are correct\n",
    " tp / (tp + fp)"
   ]
  },
  {
   "cell_type": "markdown",
   "id": "c648caee",
   "metadata": {},
   "source": [
    "# Recall: Fraction of correctly identified positive examples\n",
    "tp / (tp + fn) = tp / (#positive observations)"
   ]
  },
  {
   "cell_type": "code",
   "execution_count": 20,
   "id": "d3a613d9",
   "metadata": {},
   "outputs": [],
   "source": [
    "def tpr_fpr_dataframe(y_val, y_pred):\n",
    "    scores = []\n",
    "    thresholds = np.linspace(0,1,101)\n",
    "\n",
    "    for t in thresholds:\n",
    "        actual_positive = (y_val == 1)\n",
    "        actual_negative = (y_val == 0)\n",
    "\n",
    "        predict_positive = (y_pred >= t)\n",
    "        predict_negative = (y_pred < t)\n",
    "    \n",
    "        tp = (predict_positive & actual_positive).sum()\n",
    "        tn = (predict_negative & actual_negative).sum()\n",
    "    \n",
    "        fp = (predict_positive & actual_negative).sum()\n",
    "        fn = (predict_negative & actual_positive).sum()\n",
    "    \n",
    "        scores.append((t, tp, fp, fn, tn))\n",
    "        \n",
    "    columns =[\"threshold\", \"tp\", \"fp\", \"fn\", \"tn\"]\n",
    "    df_scores = pd.DataFrame(scores, columns=columns)\n",
    "        \n",
    "    df_scores[\"tpr\"] = df_scores.tp/(df_scores.tp + df_scores.fn)#Recall\n",
    "    df_scores[\"fpr\"] = df_scores.fp/(df_scores.fp + df_scores.tn)#Recall\n",
    "    \n",
    "    df_scores[\"tpp\"] = df_scores.tp/(df_scores.tp + df_scores.fp)#Precision\n",
    "    df_scores[\"fpp\"] = df_scores.fp/(df_scores.fp + df_scores.tp)#Precision\n",
    "    r = df_scores['tpr']\n",
    "    p = df_scores['tpp']\n",
    "    df_scores[\"f1\"] = 2 * ((p*r)/(p+r))\n",
    "    \n",
    "    return df_scores"
   ]
  },
  {
   "cell_type": "code",
   "execution_count": 21,
   "id": "a97de6b9",
   "metadata": {},
   "outputs": [],
   "source": [
    "df_scores = tpr_fpr_dataframe(y_val, y_pred_v)"
   ]
  },
  {
   "cell_type": "code",
   "execution_count": 22,
   "id": "23f9a150",
   "metadata": {},
   "outputs": [
    {
     "data": {
      "image/png": "[encoded data removed]",
      "text/plain": [
       "<Figure size 432x288 with 1 Axes>"
      ]
     },
     "metadata": {
      "needs_background": "light"
     },
     "output_type": "display_data"
    }
   ],
   "source": [
    "plt.plot(df_scores[\"threshold\"], df_scores[\"tpr\"], label=\"TPR\")\n",
    "plt.plot(df_scores[\"threshold\"], df_scores[\"fpr\"], label=\"FPR\")\n",
    "plt.plot(df_scores[\"threshold\"], df_scores[\"tpp\"], label=\"TPP\")\n",
    "plt.plot(df_scores[\"threshold\"], df_scores[\"fpp\"], label=\"FPP\")\n",
    "plt.legend();"
   ]
  },
  {
   "cell_type": "markdown",
   "id": "177daffe",
   "metadata": {},
   "source": [
    "# Question 4\n",
    "Precision and recall are conflicting - when one grows, the other goes down. That's why they are often combined into the F1 score - a metrics that takes into account both \n",
    "\n",
    "F1 = 2 * {P * R} / {P + R}\n",
    "\n",
    "Where P is precision and R is recall.\n",
    "\n",
    "Let's compute F1 for all thresholds from 0.0 to 1.0 with increment 0.01 using the validation set\n",
    "\n",
    "At which threshold F1 is maximal?"
   ]
  },
  {
   "cell_type": "code",
   "execution_count": null,
   "id": "075a6c8a",
   "metadata": {},
   "outputs": [],
   "source": []
  },
  {
   "cell_type": "code",
   "execution_count": 23,
   "id": "477ba106",
   "metadata": {},
   "outputs": [],
   "source": [
    "df_scoresF1 = tpr_fpr_dataframe(y_val, y_pred_v)"
   ]
  },
  {
   "cell_type": "code",
   "execution_count": 24,
   "id": "b614510b",
   "metadata": {},
   "outputs": [
    {
     "data": {
      "image/png": "[encoded data removed]",
      "text/plain": [
       "<Figure size 432x288 with 1 Axes>"
      ]
     },
     "metadata": {
      "needs_background": "light"
     },
     "output_type": "display_data"
    }
   ],
   "source": [
    "plt.plot(df_scoresF1[\"threshold\"], df_scoresF1[\"f1\"] , label=\"TPR\")\n",
    "\n",
    "plt.legend();"
   ]
  },
  {
   "cell_type": "code",
   "execution_count": 25,
   "id": "a91e8c8f",
   "metadata": {},
   "outputs": [],
   "source": [
    "r = df_scores['tpr']\n",
    "p = df_scores['tpp']"
   ]
  },
  {
   "cell_type": "code",
   "execution_count": 26,
   "id": "d65eeb84",
   "metadata": {},
   "outputs": [
    {
     "data": {
      "text/html": [
       "<div>\n",
       "<style scoped>\n",
       "    .dataframe tbody tr th:only-of-type {\n",
       "        vertical-align: middle;\n",
       "    }\n",
       "\n",
       "    .dataframe tbody tr th {\n",
       "        vertical-align: top;\n",
       "    }\n",
       "\n",
       "    .dataframe thead th {\n",
       "        text-align: right;\n",
       "    }\n",
       "</style>\n",
       "<table border=\"1\" class=\"dataframe\">\n",
       "  <thead>\n",
       "    <tr style=\"text-align: right;\">\n",
       "      <th></th>\n",
       "      <th>0</th>\n",
       "    </tr>\n",
       "  </thead>\n",
       "  <tbody>\n",
       "    <tr>\n",
       "      <th>0</th>\n",
       "      <td>0.888421</td>\n",
       "    </tr>\n",
       "    <tr>\n",
       "      <th>1</th>\n",
       "      <td>0.925439</td>\n",
       "    </tr>\n",
       "    <tr>\n",
       "      <th>2</th>\n",
       "      <td>0.931567</td>\n",
       "    </tr>\n",
       "    <tr>\n",
       "      <th>3</th>\n",
       "      <td>0.946188</td>\n",
       "    </tr>\n",
       "    <tr>\n",
       "      <th>4</th>\n",
       "      <td>0.950450</td>\n",
       "    </tr>\n",
       "    <tr>\n",
       "      <th>5</th>\n",
       "      <td>0.950450</td>\n",
       "    </tr>\n",
       "    <tr>\n",
       "      <th>6</th>\n",
       "      <td>0.956916</td>\n",
       "    </tr>\n",
       "    <tr>\n",
       "      <th>7</th>\n",
       "      <td>0.956916</td>\n",
       "    </tr>\n",
       "    <tr>\n",
       "      <th>8</th>\n",
       "      <td>0.956720</td>\n",
       "    </tr>\n",
       "    <tr>\n",
       "      <th>9</th>\n",
       "      <td>0.956720</td>\n",
       "    </tr>\n",
       "  </tbody>\n",
       "</table>\n",
       "</div>"
      ],
      "text/plain": [
       "          0\n",
       "0  0.888421\n",
       "1  0.925439\n",
       "2  0.931567\n",
       "3  0.946188\n",
       "4  0.950450\n",
       "5  0.950450\n",
       "6  0.956916\n",
       "7  0.956916\n",
       "8  0.956720\n",
       "9  0.956720"
      ]
     },
     "execution_count": 26,
     "metadata": {},
     "output_type": "execute_result"
    }
   ],
   "source": [
    "f1 = 2 * ((p*r)/(p+r))\n",
    "f1 = pd.DataFrame(f1)\n",
    "f1.head(10)"
   ]
  },
  {
   "cell_type": "markdown",
   "id": "2b5d3ad5",
   "metadata": {},
   "source": [
    "# Question 5\n"
   ]
  },
  {
   "cell_type": "code",
   "execution_count": 45,
   "id": "1aa21b65",
   "metadata": {},
   "outputs": [
    {
     "name": "stdout",
     "output_type": "stream",
     "text": [
      "0.002499999999999991\n"
     ]
    }
   ],
   "source": [
    "kFold = KFold(n_splits=5, shuffle=True, random_state=1)\n",
    "scores = []\n",
    "\n",
    "for train_idx, val_idx in kFold.split(full_train):\n",
    "    df_train = full_train.iloc[train_idx]\n",
    "    df_val = full_train.iloc[val_idx]\n",
    "\n",
    "    X_train_ =pd.DataFrame(df_train[numerical + categorical])\n",
    "    train_dict = df_train.to_dict(orient='records')\n",
    "    x_train = dv.fit_transform(train_dict)\n",
    "\n",
    "    X_val_ =pd.DataFrame(df_val[numerical + categorical])\n",
    "    val_dict = df_val.to_dict(orient='records')\n",
    "    x_val = dv.fit_transform(val_dict)\n",
    "    \n",
    "    y_train = df_train.card.values\n",
    "    y_val = df_val.card.values\n",
    "    \n",
    "    model = LogisticRegression(solver='liblinear', C=1.0, max_iter=1000)\n",
    "    model.fit(x_train, y_train)    \n",
    "    \n",
    "    y_pred = model.predict(x_val)\n",
    "\n",
    "    auc = roc_auc_score(y_val, y_pred)\n",
    "    scores.append(auc)\n",
    "\n",
    "std_folds = np.std(scores)\n",
    "print(std_folds)"
   ]
  },
  {
   "cell_type": "markdown",
   "id": "9a88f411",
   "metadata": {},
   "source": [
    "# Question 5\n"
   ]
  },
  {
   "cell_type": "code",
   "execution_count": 48,
   "id": "09d0f5fb",
   "metadata": {},
   "outputs": [
    {
     "name": "stdout",
     "output_type": "stream",
     "text": [
      "   param   mean     sd\n",
      "0   0.01  0.987  0.007\n",
      "0   0.10  0.988  0.007\n",
      "0   1.00  0.999  0.002\n",
      "0  10.00  1.000  0.000\n"
     ]
    }
   ],
   "source": [
    "C = [0.01, 0.1, 1, 10]\n",
    "fold_stats = pd.DataFrame()\n",
    "\n",
    "for c in [0.01, 0.1, 1, 10]:\n",
    "    kfold = KFold(n_splits=5, shuffle=True, random_state=1)\n",
    "\n",
    "    scores = []\n",
    "    for train_idx, val_idx in kfold.split(full_train):\n",
    "        df_train = full_train.iloc[train_idx]\n",
    "        df_val = full_train.iloc[val_idx]\n",
    "\n",
    "        X_train_ =pd.DataFrame(df_train[numerical + categorical])\n",
    "        train_dict = df_train.to_dict(orient='records')\n",
    "        x_train = dv.fit_transform(train_dict)\n",
    "\n",
    "        X_val_ =pd.DataFrame(df_val[numerical + categorical])\n",
    "        val_dict = df_val.to_dict(orient='records')\n",
    "        x_val = dv.fit_transform(val_dict)\n",
    "\n",
    "        y_train = df_train.card.values\n",
    "        y_val = df_val.card.values\n",
    "\n",
    "        model = LogisticRegression(solver='liblinear', C=c, max_iter=1000)\n",
    "        model.fit(x_train, y_train)    \n",
    "\n",
    "        y_pred = model.predict(x_val)\n",
    "\n",
    "        auc = roc_auc_score(y_val, y_pred)\n",
    "        scores.append(auc)\n",
    "    data = pd.DataFrame([{'param': c, 'mean': np.mean(scores).round(3), 'sd': np.std(scores).round(3)}])\n",
    "    fold_stats = pd.concat([fold_stats, data])\n",
    "\n",
    "print(fold_stats)  # The best c is the default value 1"
   ]
  },
  {
   "cell_type": "code",
   "execution_count": null,
   "id": "5169a524",
   "metadata": {},
   "outputs": [],
   "source": []
  },
  {
   "cell_type": "code",
   "execution_count": null,
   "id": "bae6a80d",
   "metadata": {},
   "outputs": [],
   "source": []
  },
  {
   "cell_type": "code",
   "execution_count": null,
   "id": "256e9fba",
   "metadata": {},
   "outputs": [],
   "source": []
  }
 ],
 "metadata": {
  "kernelspec": {
   "display_name": "Python 3 (ipykernel)",
   "language": "python",
   "name": "python3"
  },
  "language_info": {
   "codemirror_mode": {
    "name": "ipython",
    "version": 3
   },
   "file_extension": ".py",
   "mimetype": "text/x-python",
   "name": "python",
   "nbconvert_exporter": "python",
   "pygments_lexer": "ipython3",
   "version": "3.8.8"
  }
 },
 "nbformat": 4,
 "nbformat_minor": 5
}
